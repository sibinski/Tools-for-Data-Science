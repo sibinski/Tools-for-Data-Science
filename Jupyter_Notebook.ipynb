{
 "cells": [
  {
   "cell_type": "markdown",
   "metadata": {},
   "source": [
    "<center>\n",
    "    <img src=\"https://cf-courses-data.s3.us.cloud-object-storage.appdomain.cloud/IBMDeveloperSkillsNetwork-DS0105EN-SkillsNetwork/labs/Module2/images/SN_web_lightmode.png\" width=\"300\" alt=\"cognitiveclass.ai logo\">\n",
    "</center>\n"
   ]
  },
  {
   "cell_type": "markdown",
   "metadata": {},
   "source": [
    "#### Add your code below following the instructions given in the course\n"
   ]
  },
  {
   "cell_type": "markdown",
   "metadata": {},
   "source": [
    "<h1>Data Science Tools and Ecosystem</h1>"
   ]
  },
  {
   "cell_type": "markdown",
   "metadata": {},
   "source": [
    "This is a Jupyter notebook, where Data Science Tools and Ecosystem are summarized."
   ]
  },
  {
   "cell_type": "markdown",
   "metadata": {
    "tags": []
   },
   "source": [
    "<strong>Objectives:</strong>"
   ]
  },
  {
   "cell_type": "markdown",
   "metadata": {
    "tags": []
   },
   "source": [
    "<ul>\n",
    "<li>list data science languages</li>\n",
    "<li>list libraries used by Data Scientists</li>\n",
    "<li>list commonly used Data Science Tools</li>\n",
    "<li>show evaluation of arithmetic expressions in Python</li>\n",
    "<li>convert minutes to hours and minutes</li>\n",
    "</ul>"
   ]
  },
  {
   "cell_type": "markdown",
   "metadata": {
    "tags": []
   },
   "source": [
    "Some of the popular languages that Data Scientists use are:"
   ]
  },
  {
   "cell_type": "markdown",
   "metadata": {},
   "source": [
    "<ol>\n",
    "<li>Python</li>\n",
    "<li>R</li>\n",
    "<li>MATLAB</li>\n",
    "<li>Julia</li>\n",
    "<li>Scala</li>\n",
    "<li>SQL</li>\n",
    "</ol>"
   ]
  },
  {
   "cell_type": "markdown",
   "metadata": {},
   "source": [
    "Some of the commonly used libraries used by Data Scientists include:"
   ]
  },
  {
   "cell_type": "markdown",
   "metadata": {},
   "source": [
    "<ol>\n",
    "<li>Pandas</li>\n",
    "<li>SciPy</li>\n",
    "<li>GGplot</li></ol>"
   ]
  },
  {
   "cell_type": "markdown",
   "metadata": {},
   "source": [
    "Some of the commonly used Data Science Tools:"
   ]
  },
  {
   "cell_type": "markdown",
   "metadata": {},
   "source": [
    "<TABLE style=\"text-align: left; margin-left: 0;\">\n",
    "    <TR><TH>Data Science Tools (development environment open source tools)</TH></TR>\n",
    "    <TR><TD>RStudio</TD></TR>\n",
    "    <TR><TD>Jupyter Notebook</TD></TR>\n",
    "    <TR><TD>Microsoft Visual Studio Community Edition</TD></TR>\n",
    "    <TR><TD>PyCharm Community Edition</TD></TR>\n",
    "    <TR><TD>IntelliJ IDEA Community Edition</TD></TR>\n",
    "</TABLE>"
   ]
  },
  {
   "cell_type": "markdown",
   "metadata": {},
   "source": [
    "Below are a few examples of evaluating arithmetic expressions in Python:"
   ]
  },
  {
   "cell_type": "code",
   "execution_count": 10,
   "metadata": {
    "tags": []
   },
   "outputs": [
    {
     "name": "stdout",
     "output_type": "stream",
     "text": [
      "98342560346 + 5905698557 = 104248258903\n"
     ]
    }
   ],
   "source": [
    "print(\"98342560346 + 5905698557 = \" + str(98342560346 + 5905698557))"
   ]
  },
  {
   "cell_type": "code",
   "execution_count": 11,
   "metadata": {
    "tags": []
   },
   "outputs": [
    {
     "name": "stdout",
     "output_type": "stream",
     "text": [
      "a - b is equalt to: 3012\n"
     ]
    }
   ],
   "source": [
    "a = 546546;\n",
    "b = 543534;\n",
    "z = a - b;\n",
    "print(\"a - b is equalt to: \" + str(z));"
   ]
  },
  {
   "cell_type": "code",
   "execution_count": 13,
   "metadata": {
    "tags": []
   },
   "outputs": [
    {
     "name": "stdout",
     "output_type": "stream",
     "text": [
      "c + d is equal to: 42970732\n"
     ]
    }
   ],
   "source": [
    "c = 6454;\n",
    "d = 6658\n",
    "y = c * d;\n",
    "print(\"c + d is equal to: \" + str(y));"
   ]
  },
  {
   "cell_type": "code",
   "execution_count": 9,
   "metadata": {
    "tags": []
   },
   "outputs": [
    {
     "name": "stdout",
     "output_type": "stream",
     "text": [
      "2024 divided by 1000 is equalt to: 2.024\n"
     ]
    }
   ],
   "source": [
    "e = 2024;\n",
    "f = 1000;\n",
    "print(\"2024 divided by 1000 is equalt to: \" + str(e/f));"
   ]
  },
  {
   "cell_type": "markdown",
   "metadata": {},
   "source": [
    " This a simple arithmetic expression to mutiply then add integers:"
   ]
  },
  {
   "cell_type": "code",
   "execution_count": 14,
   "metadata": {
    "tags": []
   },
   "outputs": [
    {
     "data": {
      "text/plain": [
       "17"
      ]
     },
     "execution_count": 14,
     "metadata": {},
     "output_type": "execute_result"
    }
   ],
   "source": [
    "(3*4)+5"
   ]
  },
  {
   "cell_type": "code",
   "execution_count": 29,
   "metadata": {
    "tags": []
   },
   "outputs": [
    {
     "name": "stdout",
     "output_type": "stream",
     "text": [
      "200 minutes converted to hours by dividing by 60: 3 hours and 20 minutes.\n"
     ]
    }
   ],
   "source": [
    "# This will convert 200 minutes to hours by diving by 60:\n",
    "print(\"200 minutes converted to hours by dividing by 60: \" + str(int(200/60)) + (\" hours and \" + str(int(200%60)) + \" minutes.\"))\n"
   ]
  },
  {
   "cell_type": "markdown",
   "metadata": {},
   "source": [
    "<h2>Author:</h2><br>Jevgeni Shibinski"
   ]
  }
 ],
 "metadata": {
  "kernelspec": {
   "display_name": "Python",
   "language": "python",
   "name": "conda-env-python-py"
  },
  "language_info": {
   "codemirror_mode": {
    "name": "ipython",
    "version": 3
   },
   "file_extension": ".py",
   "mimetype": "text/x-python",
   "name": "python",
   "nbconvert_exporter": "python",
   "pygments_lexer": "ipython3",
   "version": "3.7.12"
  }
 },
 "nbformat": 4,
 "nbformat_minor": 4
}
